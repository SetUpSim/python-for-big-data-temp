{
  "nbformat": 4,
  "nbformat_minor": 0,
  "metadata": {
    "colab": {
      "provenance": []
    },
    "kernelspec": {
      "name": "python3",
      "display_name": "Python 3"
    },
    "language_info": {
      "name": "python"
    }
  },
  "cells": [
    {
      "cell_type": "markdown",
      "source": [
        "# I. OOP"
      ],
      "metadata": {
        "id": "5qV_sehzFCTp"
      }
    },
    {
      "cell_type": "markdown",
      "source": [
        "1. (6б). Створіть клас Building, додайте три атрибути, один з яких має значення за замовчуванням та два методи на свій розсуд."
      ],
      "metadata": {
        "id": "tx_U_hOALyfg"
      }
    },
    {
      "cell_type": "code",
      "source": [
        "class Building:\n",
        "    def __init__(self, address, floors, year_built=2000):\n",
        "        self.address = address\n",
        "        self.floors = floors\n",
        "        self.year_built = year_built\n",
        "\n",
        "    def calculate_age(self, current_year):\n",
        "        return current_year - self.year_built\n",
        "\n",
        "    def describe(self):\n",
        "        return f\"Building at {self.address} has {self.floors} floors and was built in {self.year_built}.\""
      ],
      "metadata": {
        "id": "-Vf895KaL88N"
      },
      "execution_count": 1,
      "outputs": []
    },
    {
      "cell_type": "markdown",
      "source": [
        "2. (2б). Створіть два обʼєкти цього класу, де один з обʼєктів створюється із дефолтним значенням атрибуту. На одному обʼєкті отримайте значення його атрибуту, а на іншому викличте один з його методів."
      ],
      "metadata": {
        "id": "X_UlOMB0L93w"
      }
    },
    {
      "cell_type": "code",
      "source": [
        "building1 = Building(\"Харківське шосе 87\", 5)\n",
        "building2 = Building(\"Лесі Українки бульвар 11\", 10, 1995)\n",
        "\n",
        "print(building1.year_built)\n",
        "print(building2.describe())"
      ],
      "metadata": {
        "id": "7gBu0ESOMCpG",
        "colab": {
          "base_uri": "https://localhost:8080/"
        },
        "outputId": "1940190f-13a5-4d83-ab23-9de9e27f8e9b"
      },
      "execution_count": 2,
      "outputs": [
        {
          "output_type": "stream",
          "name": "stdout",
          "text": [
            "2000\n",
            "Building at Лесі Українки бульвар 11 has 10 floors and was built in 1995.\n"
          ]
        }
      ]
    },
    {
      "cell_type": "markdown",
      "source": [
        "3. (5б). Створіть клас, де атрибути мають різні рівні доступу. Спробуйте отримати їхні значення та опишіть результати."
      ],
      "metadata": {
        "id": "HoqSCZt1MHn5"
      }
    },
    {
      "cell_type": "code",
      "source": [
        "class AccessLevels:\n",
        "    def __init__(self):\n",
        "        self.public_attr = \"Це публічний атрибут\"\n",
        "        self._protected_attr = \"Це захищений атрибут\"\n",
        "        self.__private_attr = \"Це приватний атрибут\"\n",
        "\n",
        "    def get_private(self):\n",
        "        return self.__private_attr\n",
        "\n",
        "access_obj = AccessLevels()\n",
        "\n",
        "# Спроба отримати значення атрибутів\n",
        "print(\"Публічний атрибут:\", access_obj.public_attr)  # Працює нормально\n",
        "print(\"Захищений атрибут:\", access_obj._protected_attr)  # Працює, але не рекомендується\n",
        "try:\n",
        "    print(\"Приватний атрибут:\", access_obj.__private_attr)  # Викличе помилку AttributeError\n",
        "except AttributeError as e:\n",
        "    print(f\"Помилка доступу до приватного атрибута: {e}\")\n",
        "\n",
        "# Правильний спосіб отримати значення приватного атрибута\n",
        "print(\"Приватний атрибут через метод:\", access_obj.get_private())\n",
        "print(\"Приватний атрибут через _AccessLevels__private_attr:\", access_obj._AccessLevels__private_attr)"
      ],
      "metadata": {
        "id": "r9b3vJxBMSPV",
        "colab": {
          "base_uri": "https://localhost:8080/"
        },
        "outputId": "f56fbc38-fd8d-4d11-a641-85c04425dd85"
      },
      "execution_count": 4,
      "outputs": [
        {
          "output_type": "stream",
          "name": "stdout",
          "text": [
            "Публічний атрибут: Це публічний атрибут\n",
            "Захищений атрибут: Це захищений атрибут\n",
            "Помилка доступу до приватного атрибута: 'AccessLevels' object has no attribute '__private_attr'\n",
            "Приватний атрибут через метод: Це приватний атрибут\n",
            "Приватний атрибут через _AccessLevels__private_attr: Це приватний атрибут\n"
          ]
        }
      ]
    },
    {
      "cell_type": "markdown",
      "source": [
        "4. (7б). Як ви розумієте термін self? Для чого використовується метод __init __?"
      ],
      "metadata": {
        "id": "5op2m2vgMSkZ"
      }
    },
    {
      "cell_type": "markdown",
      "source": [
        "`self` використовується як `this` у інших мовах програмування, для посилання на об'єкт класу в середині його методів, але його особливістю є те, що він має передаватись в методи першим параметром\n",
        "Метод `__init__` - це спеціальний метод, конструктор класу, що автоматично викликається при створенні об'єкта класу, в ньому ініціалізуються атрибути."
      ],
      "metadata": {
        "id": "DyiPqNRvMasx"
      }
    },
    {
      "cell_type": "markdown",
      "source": [
        "5. (9б). Створіть клас 3D-фігура без атрибутів, з методом get_volume для отримання об'єму фігури, що повертає 0 та __add __, який приймає self та other в якості аргументів, а повертає суму об'ємів 3d-фігур self та other."
      ],
      "metadata": {
        "id": "-6X8EGfjMd2y"
      }
    },
    {
      "cell_type": "code",
      "source": [
        "class Shape3D:\n",
        "    def get_volume(self):\n",
        "        return 0\n",
        "\n",
        "    def __add__(self, other):\n",
        "        return self.get_volume() + other.get_volume()"
      ],
      "metadata": {
        "id": "4rvO_wYUMaEr"
      },
      "execution_count": null,
      "outputs": []
    },
    {
      "cell_type": "markdown",
      "source": [
        "6. (11б). Створіть 2 дочірніх класи від 3d-фігура: Циліндр та Куб, які мають атрибути, необхідні для розрахунку об'єму. Визначте метод get_volume в кожному з них так, щоби вони розраховували об'єм у залежності від формули для кожного типу фігури. Створіть обʼєкт класу Циліндр та обʼєкт класу Куб. Виконайте операцію суми за допомогою оператора + між ними, аби знайти сумарний об'єм."
      ],
      "metadata": {
        "id": "SFcKnnv5Mo_z"
      }
    },
    {
      "cell_type": "code",
      "source": [
        "import math\n",
        "\n",
        "class Shape3D:\n",
        "    def get_volume(self):\n",
        "        return 0\n",
        "\n",
        "    def __add__(self, other):\n",
        "        return self.get_volume() + other.get_volume()\n",
        "\n",
        "class Cylinder(Shape3D):\n",
        "    def __init__(self, radius, height):\n",
        "        self.radius = radius\n",
        "        self.height = height\n",
        "\n",
        "    def get_volume(self):\n",
        "        return math.pi * (self.radius ** 2) * self.height\n",
        "\n",
        "class Cube(Shape3D):\n",
        "    def __init__(self, side_length):\n",
        "        self.side_length = side_length\n",
        "\n",
        "    def get_volume(self):\n",
        "        return self.side_length ** 3\n",
        "\n",
        "cylinder = Cylinder(3, 5)\n",
        "cube = Cube(4)\n",
        "\n",
        "print(f\"Об'єм циліндра: {cylinder.get_volume():.2f}\")\n",
        "print(f\"Об'єм куба: {cube.get_volume():.2f}\")\n",
        "\n",
        "total_volume = cylinder + cube\n",
        "print(f\"Сума об'ємів: {total_volume:.2f}\")"
      ],
      "metadata": {
        "id": "H3GVNr69Muf3",
        "colab": {
          "base_uri": "https://localhost:8080/"
        },
        "outputId": "5c807ce6-c4e4-4543-feaa-5fe4c23f2047"
      },
      "execution_count": 5,
      "outputs": [
        {
          "output_type": "stream",
          "name": "stdout",
          "text": [
            "Об'єм циліндра: 141.37\n",
            "Об'єм куба: 64.00\n",
            "Сума об'ємів: 205.37\n"
          ]
        }
      ]
    },
    {
      "cell_type": "markdown",
      "source": [
        "7. (3б). Продемонструйте різницю між isinstance та issubclass."
      ],
      "metadata": {
        "id": "HCvR206YMvLK"
      }
    },
    {
      "cell_type": "code",
      "source": [
        "class Animal:\n",
        "    pass\n",
        "\n",
        "class Dog(Animal):\n",
        "    pass\n",
        "\n",
        "# Створюємо об'єкти\n",
        "animal = Animal()\n",
        "dog = Dog()\n",
        "\n",
        "# isinstance перевіряє, чи є об'єкт екземпляром класу або його підкласу\n",
        "print(\"isinstance(dog, Dog):\", isinstance(dog, Dog))       # True\n",
        "print(\"isinstance(dog, Animal):\", isinstance(dog, Animal)) # True\n",
        "print(\"isinstance(animal, Dog):\", isinstance(animal, Dog)) # False\n",
        "\n",
        "# issubclass перевіряє, чи є один клас підкласом іншого\n",
        "print(\"issubclass(Dog, Animal):\", issubclass(Dog, Animal)) # True\n",
        "print(\"issubclass(Animal, Dog):\", issubclass(Animal, Dog)) # False\n",
        "print(\"issubclass(Dog, Dog):\", issubclass(Dog, Dog))       # True"
      ],
      "metadata": {
        "id": "L_V1bBvDM0GN",
        "colab": {
          "base_uri": "https://localhost:8080/"
        },
        "outputId": "84b5577a-1f03-4b14-e602-4543995f46e0"
      },
      "execution_count": 6,
      "outputs": [
        {
          "output_type": "stream",
          "name": "stdout",
          "text": [
            "isinstance(dog, Dog): True\n",
            "isinstance(dog, Animal): True\n",
            "isinstance(animal, Dog): False\n",
            "issubclass(Dog, Animal): True\n",
            "issubclass(Animal, Dog): False\n",
            "issubclass(Dog, Dog): True\n"
          ]
        }
      ]
    },
    {
      "cell_type": "markdown",
      "source": [
        "8. (13б). Створіть клас EWallet з приватними атрибутами balance та id. Реалізуйте методи поповнення та зняття коштів, забезпечивши належну інкапсуляцію. Підказка: використовуйте декоратори property та setter."
      ],
      "metadata": {
        "id": "jjsaBZ-iM0Qq"
      }
    },
    {
      "cell_type": "code",
      "source": [
        "class EWallet:\n",
        "    def __init__(self, wallet_id, initial_balance=0):\n",
        "        self._id = wallet_id\n",
        "        self._balance = initial_balance\n",
        "\n",
        "    @property\n",
        "    def balance(self):\n",
        "        return self._balance\n",
        "\n",
        "    @balance.setter\n",
        "    def balance(self, value):\n",
        "        if value < 0:\n",
        "            raise ValueError(\"Значення балансу не може буте від'ємними\")\n",
        "        self._balance = value\n",
        "\n",
        "    @property\n",
        "    def id(self):\n",
        "        return self._id\n",
        "\n",
        "    def deposit(self, amount):\n",
        "        if amount <= 0:\n",
        "            raise ValueError(\"Розмір депозиту не може буте від'ємними\")\n",
        "        self._balance += amount\n",
        "        return f\"Внесено на рахунок {amount}. Новий баланс: {self._balance}\"\n",
        "\n",
        "    def withdraw(self, amount):\n",
        "        if amount <= 0:\n",
        "            raise ValueError(\"Розмір зняття не може буте від'ємними\")\n",
        "        if amount > self._balance:\n",
        "            raise ValueError(\"Недостатньо коштів\")\n",
        "        self._balance -= amount\n",
        "        return f\"Знято {amount}. Новий баланс: {self._balance}\"\n",
        "\n",
        "wallet = EWallet(\"12345\", 1000)\n",
        "print(f\"Wallet ID: {wallet.id}, Balance: {wallet.balance}\")\n",
        "\n",
        "print(wallet.deposit(500))\n",
        "print(wallet.withdraw(200))\n",
        "\n",
        "try:\n",
        "    wallet.withdraw(2000)  # Спроба зняти більше, ніж є на рахунку\n",
        "except ValueError as e:\n",
        "    print(f\"Помилка: {e}\")"
      ],
      "metadata": {
        "id": "xCvZ7lh8M7YA",
        "colab": {
          "base_uri": "https://localhost:8080/"
        },
        "outputId": "705d90ae-e64e-467c-b1bc-e8c3be7f95ba"
      },
      "execution_count": 7,
      "outputs": [
        {
          "output_type": "stream",
          "name": "stdout",
          "text": [
            "Wallet ID: 12345, Balance: 1000\n",
            "Внесено на рахунок 500. Новий баланс: 1500\n",
            "Знято 200. Новий баланс: 1300\n",
            "Error: Недостатньо коштів\n"
          ]
        }
      ]
    },
    {
      "cell_type": "markdown",
      "source": [
        "9. (11б). Створіть клас ShoppingCart, який містить список об'єктів типу Item. Реалізуйте методи для додавання айтемів, їх видалення та відображення списку айтемів."
      ],
      "metadata": {
        "id": "tIzL2SJTM8ft"
      }
    },
    {
      "cell_type": "code",
      "source": [
        "class Item:\n",
        "    def __init__(self, name, price, quantity=1):\n",
        "        self.name = name\n",
        "        self.price = price\n",
        "        self.quantity = quantity\n",
        "\n",
        "    def total_price(self):\n",
        "        return self.price * self.quantity\n",
        "\n",
        "    def __str__(self):\n",
        "        return f\"{self.name} - ₴{self.price} x {self.quantity}\"\n",
        "\n",
        "class ShoppingCart:\n",
        "    def __init__(self):\n",
        "        self.items = []\n",
        "\n",
        "    def add_item(self, item):\n",
        "        self.items.append(item)\n",
        "        return f\"{item.name} додано до кошика\"\n",
        "\n",
        "    def remove_item(self, item_name):\n",
        "        for i, item in enumerate(self.items):\n",
        "            if item.name == item_name:\n",
        "                removed = self.items.pop(i)\n",
        "                return f\"{removed.name} видалено з кошика\"\n",
        "        return f\"{item_name} в кошику не знайдено\"\n",
        "\n",
        "    def display_items(self):\n",
        "        if not self.items:\n",
        "            return \"Кошик пустий\"\n",
        "\n",
        "        total = 0\n",
        "        display = \"Кошик:\\n\"\n",
        "        for item in self.items:\n",
        "            display += f\"  {item}\\n\"\n",
        "            total += item.total_price()\n",
        "\n",
        "        display += f\"Разом: ${total}\"\n",
        "        return display\n",
        "\n",
        "# Використання\n",
        "cart = ShoppingCart()\n",
        "print(cart.display_items())\n",
        "\n",
        "item1 = Item(\"Laptop\", 1200)\n",
        "item2 = Item(\"Mouse\", 25, 2)\n",
        "item3 = Item(\"Keyboard\", 50)\n",
        "\n",
        "print(cart.add_item(item1))\n",
        "print(cart.add_item(item2))\n",
        "print(cart.add_item(item3))\n",
        "\n",
        "print(cart.display_items())\n",
        "\n",
        "print(cart.remove_item(\"Mouse\"))\n",
        "print(cart.display_items())"
      ],
      "metadata": {
        "id": "HWxfJKLtNAUZ",
        "colab": {
          "base_uri": "https://localhost:8080/"
        },
        "outputId": "4c60c97f-355d-4268-9863-bc0e98c9ca13"
      },
      "execution_count": 8,
      "outputs": [
        {
          "output_type": "stream",
          "name": "stdout",
          "text": [
            "Кошик пустий\n",
            "Laptop додано до кошика\n",
            "Mouse додано до кошика\n",
            "Keyboard додано до кошика\n",
            "Кошик:\n",
            "  Laptop - ₴1200 x 1\n",
            "  Mouse - ₴25 x 2\n",
            "  Keyboard - ₴50 x 1\n",
            "Разом: $1300\n",
            "Mouse видалено з кошика\n",
            "Кошик:\n",
            "  Laptop - ₴1200 x 1\n",
            "  Keyboard - ₴50 x 1\n",
            "Разом: $1250\n"
          ]
        }
      ]
    },
    {
      "cell_type": "markdown",
      "source": [
        "10. (13б). Створіть клас Vehicle з атрибутами brand (manufacturer) та production_age. Створіть ще один клас Engine з такими атрибутами, як type (ex. petrol) та size (volume, litres). Створіть клас Car, який успадковує обидва класи Vehicle та Engine. Продемонструйте використання множинної спадковості, створивши обʼєкт класу Car та отримавши mro для цього класу."
      ],
      "metadata": {
        "id": "lmV8pAwwNIqu"
      }
    },
    {
      "cell_type": "code",
      "source": [
        "class Vehicle:\n",
        "    def __init__(self, brand, production_age):\n",
        "        self.brand = brand\n",
        "        self.production_age = production_age\n",
        "\n",
        "    def get_info(self):\n",
        "        return f\"Виробник: {self.brand}, Виготовлено: {self.production_age}\"\n",
        "\n",
        "class Engine:\n",
        "    def __init__(self, engine_type, size):\n",
        "        self.type = engine_type\n",
        "        self.size = size\n",
        "\n",
        "    def get_specs(self):\n",
        "        return f\"Тип двигуна: {self.type}, Розмір: {self.size}L\"\n",
        "\n",
        "class Car(Vehicle, Engine):\n",
        "    def __init__(self, brand, production_age, engine_type, size, model):\n",
        "        Vehicle.__init__(self, brand, production_age)\n",
        "        Engine.__init__(self, engine_type, size)\n",
        "        self.model = model\n",
        "\n",
        "    def full_description(self):\n",
        "        return f\"{self.get_info()}, {self.get_specs()}, Модель: {self.model}\"\n",
        "\n",
        "my_car = Car(\"Toyota\", 2020, \"petrol\", 2.5, \"Camry\")\n",
        "\n",
        "print(my_car.full_description())\n",
        "print(\"MRO:\", Car.__mro__)"
      ],
      "metadata": {
        "id": "R49grKlWNPeN",
        "colab": {
          "base_uri": "https://localhost:8080/"
        },
        "outputId": "c12cba64-7529-4edd-99d3-f2ec3dc004ca"
      },
      "execution_count": 10,
      "outputs": [
        {
          "output_type": "stream",
          "name": "stdout",
          "text": [
            "Виробник: Toyota, Виготовлено: 2020, Тип двигуна: petrol, Розмір: 2.5L, Модель: Camry\n",
            "MRO: (<class '__main__.Car'>, <class '__main__.Vehicle'>, <class '__main__.Engine'>, <class 'object'>)\n"
          ]
        }
      ]
    },
    {
      "cell_type": "markdown",
      "source": [
        "# II. Iterator"
      ],
      "metadata": {
        "id": "dIJyUiNBFG8G"
      }
    },
    {
      "cell_type": "markdown",
      "source": [
        "11. (4б). Визначте рядок(str) з 4ма різними за значенням символами. Створіть ітератор на основі цього рядка. Викличте 5 разів функцію next на ітераторі, 4ри перших з них огорніть у ф-цію print()."
      ],
      "metadata": {
        "id": "13vsm0NyKIzL"
      }
    },
    {
      "cell_type": "code",
      "source": [
        "my_string = \"ABCD\"\n",
        "\n",
        "string_iterator = iter(my_string)\n",
        "\n",
        "print(next(string_iterator))\n",
        "print(next(string_iterator))\n",
        "print(next(string_iterator))\n",
        "print(next(string_iterator))\n",
        "\n",
        "try:\n",
        "    next(string_iterator)\n",
        "except StopIteration:\n",
        "    print('Ітератор пустий')"
      ],
      "metadata": {
        "id": "81ntabAkKuz-",
        "colab": {
          "base_uri": "https://localhost:8080/"
        },
        "outputId": "ba94009a-9633-4fe3-c67e-ec3ea0d3fbad"
      },
      "execution_count": 13,
      "outputs": [
        {
          "output_type": "stream",
          "name": "stdout",
          "text": [
            "A\n",
            "B\n",
            "C\n",
            "D\n",
            "Ітератор пустий\n"
          ]
        }
      ]
    },
    {
      "cell_type": "markdown",
      "source": [
        "А що якщо викликати цю ж функцію на рядку?"
      ],
      "metadata": {
        "id": "aekWHGXOLRsO"
      }
    },
    {
      "cell_type": "code",
      "source": [
        "try:\n",
        "    next(my_string)\n",
        "except TypeError as e:\n",
        "    print(f\"TypeError: {e}\")"
      ],
      "metadata": {
        "id": "mxATGsErLV1i",
        "colab": {
          "base_uri": "https://localhost:8080/"
        },
        "outputId": "1df47134-16b6-4e08-f8ac-c84d189c126c"
      },
      "execution_count": 14,
      "outputs": [
        {
          "output_type": "stream",
          "name": "stdout",
          "text": [
            "TypeError: 'str' object is not an iterator\n"
          ]
        }
      ]
    },
    {
      "cell_type": "markdown",
      "source": [
        " 12. (5б). Опишіть своїми словами в одному реченні, як ви розумієте різницю між ітерабельними обʼєктами та ітераторами (можна на прикладі)."
      ],
      "metadata": {
        "id": "XwtMEopwJ4pH"
      }
    },
    {
      "cell_type": "markdown",
      "source": [
        "Ітерабельні об'єкти (рядки, списки, словники) - це об'єкти, які можуть повертати ітератори через функцію iter(), а ітератори - це об'єкти, які відстежують стан перебору і повертають наступний елемент при виклику функції next(), поки елементи не вичерпаються\n"
      ],
      "metadata": {
        "id": "-sHrODc3KFn8"
      }
    },
    {
      "cell_type": "markdown",
      "source": [
        "13. (11б). Створіть клас, що має визначений Iterator Protocol та при кожному виклику next повертає назву дня тижня, поки вони не вичерпаються. Зверніть увагу, що порядок має значення."
      ],
      "metadata": {
        "id": "E9qJWmNbK8Gl"
      }
    },
    {
      "cell_type": "code",
      "source": [
        "class WeekdayIterator:\n",
        "    def __init__(self):\n",
        "        self.days = [\"Пн\", \"Вт\", \"Ср\", \"Чт\", \"Пт\", \"Сб\", \"Нд\"]\n",
        "        self.index = 0\n",
        "\n",
        "    def __iter__(self):\n",
        "        return self\n",
        "\n",
        "    def __next__(self):\n",
        "        if self.index >= len(self.days):\n",
        "            raise StopIteration\n",
        "\n",
        "        day = self.days[self.index]\n",
        "        self.index += 1\n",
        "        return day\n",
        "\n",
        "weekdays = WeekdayIterator()\n",
        "for day in weekdays:\n",
        "    print(day)\n",
        "\n",
        "weekdays_2 = WeekdayIterator()\n",
        "print(next(weekdays_2))\n",
        "print(next(weekdays_2))\n",
        "print(next(weekdays_2))\n",
        "print(next(weekdays_2))\n",
        "print(next(weekdays_2))\n",
        "print(next(weekdays_2))\n",
        "print(next(weekdays_2))\n",
        "\n",
        "try:\n",
        "    print(next(weekdays_2))\n",
        "except StopIteration:\n",
        "    print(\"Немає більше днів тижня\")"
      ],
      "metadata": {
        "id": "cqx-g_RsLo6I",
        "colab": {
          "base_uri": "https://localhost:8080/"
        },
        "outputId": "bd72430a-b3e7-41b2-a149-7df30dac1a04"
      },
      "execution_count": 38,
      "outputs": [
        {
          "output_type": "stream",
          "name": "stdout",
          "text": [
            "Пн\n",
            "Вт\n",
            "Ср\n",
            "Чт\n",
            "Пт\n",
            "Сб\n",
            "Нд\n",
            "Пн\n",
            "Вт\n",
            "Ср\n",
            "Чт\n",
            "Пт\n",
            "Сб\n",
            "Нд\n",
            "Немає більше днів тижня\n"
          ]
        }
      ]
    },
    {
      "cell_type": "markdown",
      "source": [
        "# Вітаю! Ви велика(ий) молодець, що впоралась(вся). Похваліть себе та побалуйте чимось приємним. Я Вами пишаюся."
      ],
      "metadata": {
        "id": "Z3E3S_s1Fv7-"
      }
    }
  ]
}